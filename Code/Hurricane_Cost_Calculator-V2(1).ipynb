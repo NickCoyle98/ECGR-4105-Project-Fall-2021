{
 "cells": [
  {
   "cell_type": "code",
   "execution_count": 1,
   "id": "74c51ece",
   "metadata": {
    "scrolled": false
   },
   "outputs": [],
   "source": [
    "import numpy as np \n",
    "from sklearn.svm import SVR \n",
    "import matplotlib.pyplot as plt \n",
    "import pandas as pd\n",
    "import imblearn as imb\n",
    "from sklearn.linear_model import LinearRegression\n",
    "\n",
    "\n",
    "hurricanes_costs = pd.read_csv(r'C:\\Users\\nateisgreat98\\Google Drive\\Classes\\Machine Learning\\storm_data_search_results_cost_refined.csv') #pulling the refined data set for hurricane costs\n",
    "\n",
    "hurricanes_deaths = pd.read_csv(r'C:\\Users\\nateisgreat98\\Google Drive\\Classes\\Machine Learning\\storm_data_search_results_death_refined.csv')"
   ]
  },
  {
   "cell_type": "code",
   "execution_count": 2,
   "id": "0e0c822d",
   "metadata": {},
   "outputs": [
    {
     "data": {
      "text/html": [
       "<div>\n",
       "<style scoped>\n",
       "    .dataframe tbody tr th:only-of-type {\n",
       "        vertical-align: middle;\n",
       "    }\n",
       "\n",
       "    .dataframe tbody tr th {\n",
       "        vertical-align: top;\n",
       "    }\n",
       "\n",
       "    .dataframe thead th {\n",
       "        text-align: right;\n",
       "    }\n",
       "</style>\n",
       "<table border=\"1\" class=\"dataframe\">\n",
       "  <thead>\n",
       "    <tr style=\"text-align: right;\">\n",
       "      <th></th>\n",
       "      <th>EVENT_ID</th>\n",
       "      <th>CZ_NAME_STR</th>\n",
       "      <th>BEGIN_DATE</th>\n",
       "      <th>BEGIN_TIME</th>\n",
       "      <th>EVENT_TYPE</th>\n",
       "      <th>Rain Fall (In)</th>\n",
       "      <th>DEATHS_DIRECT</th>\n",
       "      <th>INJURIES_DIRECT</th>\n",
       "      <th>DAMAGE_PROPERTY_NUM</th>\n",
       "      <th>DAMAGE_CROPS_NUM</th>\n",
       "      <th>...</th>\n",
       "      <th>INJURIES_INDIRECT</th>\n",
       "      <th>DEATHS_INDIRECT</th>\n",
       "      <th>Latitude</th>\n",
       "      <th>Longitude</th>\n",
       "      <th>Wind Speed</th>\n",
       "      <th>Min Pressure</th>\n",
       "      <th>CAT</th>\n",
       "      <th>COUNTY RISK</th>\n",
       "      <th>Total Casualties</th>\n",
       "      <th>Total Cost</th>\n",
       "    </tr>\n",
       "  </thead>\n",
       "  <tbody>\n",
       "    <tr>\n",
       "      <th>38</th>\n",
       "      <td>785747</td>\n",
       "      <td>DUPLIN (ZONE)</td>\n",
       "      <td>9/17/2018</td>\n",
       "      <td>0</td>\n",
       "      <td>Tropical Storm</td>\n",
       "      <td>26.26</td>\n",
       "      <td>0</td>\n",
       "      <td>0</td>\n",
       "      <td>0</td>\n",
       "      <td>0</td>\n",
       "      <td>...</td>\n",
       "      <td>0</td>\n",
       "      <td>1</td>\n",
       "      <td>34.10</td>\n",
       "      <td>-82.20</td>\n",
       "      <td>25</td>\n",
       "      <td>1007</td>\n",
       "      <td>-1</td>\n",
       "      <td>0</td>\n",
       "      <td>1</td>\n",
       "      <td>0</td>\n",
       "    </tr>\n",
       "    <tr>\n",
       "      <th>39</th>\n",
       "      <td>785748</td>\n",
       "      <td>DUPLIN (ZONE)</td>\n",
       "      <td>9/17/2018</td>\n",
       "      <td>0</td>\n",
       "      <td>Tropical Storm</td>\n",
       "      <td>26.26</td>\n",
       "      <td>0</td>\n",
       "      <td>0</td>\n",
       "      <td>0</td>\n",
       "      <td>0</td>\n",
       "      <td>...</td>\n",
       "      <td>0</td>\n",
       "      <td>1</td>\n",
       "      <td>34.10</td>\n",
       "      <td>-82.20</td>\n",
       "      <td>25</td>\n",
       "      <td>1007</td>\n",
       "      <td>-1</td>\n",
       "      <td>0</td>\n",
       "      <td>1</td>\n",
       "      <td>0</td>\n",
       "    </tr>\n",
       "    <tr>\n",
       "      <th>40</th>\n",
       "      <td>785756</td>\n",
       "      <td>CRAVEN (ZONE)</td>\n",
       "      <td>9/18/2018</td>\n",
       "      <td>0</td>\n",
       "      <td>Tropical Storm</td>\n",
       "      <td>15.28</td>\n",
       "      <td>0</td>\n",
       "      <td>0</td>\n",
       "      <td>0</td>\n",
       "      <td>0</td>\n",
       "      <td>...</td>\n",
       "      <td>0</td>\n",
       "      <td>1</td>\n",
       "      <td>34.10</td>\n",
       "      <td>-82.20</td>\n",
       "      <td>25</td>\n",
       "      <td>1007</td>\n",
       "      <td>-1</td>\n",
       "      <td>0</td>\n",
       "      <td>1</td>\n",
       "      <td>0</td>\n",
       "    </tr>\n",
       "    <tr>\n",
       "      <th>41</th>\n",
       "      <td>789616</td>\n",
       "      <td>WAKE (ZONE)</td>\n",
       "      <td>10/11/2018</td>\n",
       "      <td>1200</td>\n",
       "      <td>Tropical Storm</td>\n",
       "      <td>2.70</td>\n",
       "      <td>0</td>\n",
       "      <td>1</td>\n",
       "      <td>200000</td>\n",
       "      <td>0</td>\n",
       "      <td>...</td>\n",
       "      <td>0</td>\n",
       "      <td>0</td>\n",
       "      <td>34.88</td>\n",
       "      <td>-81.70</td>\n",
       "      <td>45</td>\n",
       "      <td>987</td>\n",
       "      <td>0</td>\n",
       "      <td>0</td>\n",
       "      <td>1</td>\n",
       "      <td>200000</td>\n",
       "    </tr>\n",
       "    <tr>\n",
       "      <th>42</th>\n",
       "      <td>857428</td>\n",
       "      <td>JOHNSTON (ZONE)</td>\n",
       "      <td>9/5/2019</td>\n",
       "      <td>2147</td>\n",
       "      <td>Tropical Storm</td>\n",
       "      <td>6.64</td>\n",
       "      <td>0</td>\n",
       "      <td>0</td>\n",
       "      <td>0</td>\n",
       "      <td>0</td>\n",
       "      <td>...</td>\n",
       "      <td>2</td>\n",
       "      <td>0</td>\n",
       "      <td>33.04</td>\n",
       "      <td>-78.45</td>\n",
       "      <td>92</td>\n",
       "      <td>957</td>\n",
       "      <td>1</td>\n",
       "      <td>0</td>\n",
       "      <td>2</td>\n",
       "      <td>0</td>\n",
       "    </tr>\n",
       "  </tbody>\n",
       "</table>\n",
       "<p>5 rows × 26 columns</p>\n",
       "</div>"
      ],
      "text/plain": [
       "    EVENT_ID      CZ_NAME_STR  BEGIN_DATE  BEGIN_TIME      EVENT_TYPE  \\\n",
       "38    785747    DUPLIN (ZONE)   9/17/2018           0  Tropical Storm   \n",
       "39    785748    DUPLIN (ZONE)   9/17/2018           0  Tropical Storm   \n",
       "40    785756    CRAVEN (ZONE)   9/18/2018           0  Tropical Storm   \n",
       "41    789616      WAKE (ZONE)  10/11/2018        1200  Tropical Storm   \n",
       "42    857428  JOHNSTON (ZONE)    9/5/2019        2147  Tropical Storm   \n",
       "\n",
       "    Rain Fall (In)  DEATHS_DIRECT  INJURIES_DIRECT  DAMAGE_PROPERTY_NUM  \\\n",
       "38           26.26              0                0                    0   \n",
       "39           26.26              0                0                    0   \n",
       "40           15.28              0                0                    0   \n",
       "41            2.70              0                1               200000   \n",
       "42            6.64              0                0                    0   \n",
       "\n",
       "    DAMAGE_CROPS_NUM  ... INJURIES_INDIRECT DEATHS_INDIRECT  Latitude  \\\n",
       "38                 0  ...                 0               1     34.10   \n",
       "39                 0  ...                 0               1     34.10   \n",
       "40                 0  ...                 0               1     34.10   \n",
       "41                 0  ...                 0               0     34.88   \n",
       "42                 0  ...                 2               0     33.04   \n",
       "\n",
       "   Longitude  Wind Speed Min Pressure  CAT  COUNTY RISK  Total Casualties  \\\n",
       "38    -82.20          25         1007   -1            0                 1   \n",
       "39    -82.20          25         1007   -1            0                 1   \n",
       "40    -82.20          25         1007   -1            0                 1   \n",
       "41    -81.70          45          987    0            0                 1   \n",
       "42    -78.45          92          957    1            0                 2   \n",
       "\n",
       "    Total Cost  \n",
       "38           0  \n",
       "39           0  \n",
       "40           0  \n",
       "41      200000  \n",
       "42           0  \n",
       "\n",
       "[5 rows x 26 columns]"
      ]
     },
     "execution_count": 2,
     "metadata": {},
     "output_type": "execute_result"
    }
   ],
   "source": [
    "hurricanes_deaths.tail()"
   ]
  },
  {
   "cell_type": "code",
   "execution_count": 3,
   "id": "71ada900",
   "metadata": {},
   "outputs": [],
   "source": [
    "X = hurricanes_costs.iloc[:, [5,20,21]]\n",
    "Costs = hurricanes_costs.iloc[:, [25]]"
   ]
  },
  {
   "cell_type": "code",
   "execution_count": 4,
   "id": "8c69e611",
   "metadata": {},
   "outputs": [],
   "source": [
    "from sklearn.preprocessing import StandardScaler \n",
    "sc_X = StandardScaler() \n",
    "X = sc_X.fit_transform(X) \n"
   ]
  },
  {
   "cell_type": "code",
   "execution_count": 5,
   "id": "193fea1f",
   "metadata": {},
   "outputs": [
    {
     "name": "stdout",
     "output_type": "stream",
     "text": [
      "[[ 0.86014056  0.19222672  0.3350655 ]\n",
      " [ 0.85195324  0.19222672  0.3350655 ]\n",
      " [ 0.85175207  0.19222672  0.3350655 ]\n",
      " ...\n",
      " [ 0.85249638 -0.55612288  0.68658347]\n",
      " [-1.16210745 -0.55612288  0.68658347]\n",
      " [-1.16210745 -0.55612288  0.68658347]]\n"
     ]
    }
   ],
   "source": [
    "print(X)"
   ]
  },
  {
   "cell_type": "code",
   "execution_count": 6,
   "id": "106962b6",
   "metadata": {},
   "outputs": [],
   "source": [
    "#Y_check = svr_rbf.predict(X_test)"
   ]
  },
  {
   "cell_type": "code",
   "execution_count": 7,
   "id": "3315ca4d",
   "metadata": {},
   "outputs": [],
   "source": [
    "arr = []\n",
    "for i in range(len(X)):\n",
    "    arr.append(i)"
   ]
  },
  {
   "cell_type": "code",
   "execution_count": 8,
   "id": "ad14c438",
   "metadata": {},
   "outputs": [],
   "source": [
    "model = LinearRegression().fit(X, Costs)"
   ]
  },
  {
   "cell_type": "code",
   "execution_count": 9,
   "id": "6e5ad1ad",
   "metadata": {},
   "outputs": [],
   "source": [
    "r_sq = model.score(X, Costs)"
   ]
  },
  {
   "cell_type": "code",
   "execution_count": 10,
   "id": "dd7165da",
   "metadata": {},
   "outputs": [
    {
     "name": "stdout",
     "output_type": "stream",
     "text": [
      "0.021632445396142175\n"
     ]
    }
   ],
   "source": [
    "print(r_sq)"
   ]
  },
  {
   "cell_type": "code",
   "execution_count": 11,
   "id": "2eaa7431",
   "metadata": {},
   "outputs": [
    {
     "data": {
      "text/plain": [
       "<matplotlib.collections.PathCollection at 0x162a00f9a60>"
      ]
     },
     "execution_count": 11,
     "metadata": {},
     "output_type": "execute_result"
    },
    {
     "data": {
      "image/png": "[encoded data removed]",
      "text/plain": [
       "<Figure size 432x288 with 1 Axes>"
      ]
     },
     "metadata": {
      "needs_background": "light"
     },
     "output_type": "display_data"
    }
   ],
   "source": [
    "plt.title('Costs vs Prediction')\n",
    "plt.scatter(arr, Costs, label='Actual Costs')\n",
    "plt.scatter(arr, model.predict(X), color ='darkorange', label='Prediction') "
   ]
  },
  {
   "cell_type": "code",
   "execution_count": null,
   "id": "c005f93b",
   "metadata": {},
   "outputs": [],
   "source": []
  },
  {
   "cell_type": "code",
   "execution_count": 13,
   "id": "e4dd3da9",
   "metadata": {},
   "outputs": [],
   "source": [
    "X = hurricanes_deaths.iloc[:, [5,20,21]]\n",
    "Deaths = hurricanes_deaths.iloc[:, [24]]"
   ]
  },
  {
   "cell_type": "code",
   "execution_count": 14,
   "id": "9aa2d58f",
   "metadata": {},
   "outputs": [],
   "source": [
    "sc_X = StandardScaler() \n",
    "X = sc_X.fit_transform(X) "
   ]
  },
  {
   "cell_type": "code",
   "execution_count": 15,
   "id": "c3a9487b",
   "metadata": {},
   "outputs": [],
   "source": [
    "arr = []\n",
    "for i in range(len(X)):\n",
    "    arr.append(i)"
   ]
  },
  {
   "cell_type": "code",
   "execution_count": 16,
   "id": "d86f3d83",
   "metadata": {},
   "outputs": [],
   "source": [
    "model2 = LinearRegression().fit(X, Deaths)"
   ]
  },
  {
   "cell_type": "code",
   "execution_count": 20,
   "id": "20d9f345",
   "metadata": {},
   "outputs": [
    {
     "data": {
      "text/plain": [
       "<matplotlib.collections.PathCollection at 0x162a0460eb0>"
      ]
     },
     "execution_count": 20,
     "metadata": {},
     "output_type": "execute_result"
    },
    {
     "data": {
      "image/png": "[encoded data removed]",
      "text/plain": [
       "<Figure size 432x288 with 1 Axes>"
      ]
     },
     "metadata": {
      "needs_background": "light"
     },
     "output_type": "display_data"
    }
   ],
   "source": [
    "plt.title('Casualties vs Prediction')\n",
    "plt.scatter(arr, Deaths, label='Actual Casualties')\n",
    "plt.scatter(arr, model2.predict(X), color ='darkorange', label='Prediction') "
   ]
  },
  {
   "cell_type": "code",
   "execution_count": 18,
   "id": "0e812caa",
   "metadata": {},
   "outputs": [
    {
     "data": {
      "text/plain": [
       "43"
      ]
     },
     "execution_count": 18,
     "metadata": {},
     "output_type": "execute_result"
    }
   ],
   "source": [
    "len(X)"
   ]
  },
  {
   "cell_type": "code",
   "execution_count": 19,
   "id": "fc8546a9",
   "metadata": {},
   "outputs": [
    {
     "data": {
      "text/plain": [
       "43"
      ]
     },
     "execution_count": 19,
     "metadata": {},
     "output_type": "execute_result"
    }
   ],
   "source": [
    "len(arr)"
   ]
  },
  {
   "cell_type": "code",
   "execution_count": null,
   "id": "9c5d76ba",
   "metadata": {},
   "outputs": [],
   "source": [
    "len()"
   ]
  }
 ],
 "metadata": {
  "kernelspec": {
   "display_name": "Python 3",
   "language": "python",
   "name": "python3"
  },
  "language_info": {
   "codemirror_mode": {
    "name": "ipython",
    "version": 3
   },
   "file_extension": ".py",
   "mimetype": "text/x-python",
   "name": "python",
   "nbconvert_exporter": "python",
   "pygments_lexer": "ipython3",
   "version": "3.8.8"
  }
 },
 "nbformat": 4,
 "nbformat_minor": 5
}
